{
 "cells": [
  {
   "cell_type": "code",
   "execution_count": 12,
   "metadata": {},
   "outputs": [
    {
     "name": "stdout",
     "output_type": "stream",
     "text": [
      "Tic-Tac-Toe\n",
      "Current Game:\n",
      "     |X|O\n",
      "    -----\n",
      "    O|X|X\n",
      "    -----\n",
      "    O|X|O\n",
      "X Wins!\n",
      "Game Over!\n",
      "Play again? (Y/N):n\n"
     ]
    }
   ],
   "source": [
    "#Game script, run to play game\n",
    "from IPython.display import clear_output\n",
    "\n",
    "#-------------------------Functions for use in game-------------------\n",
    "\n",
    "#Returns an empty player move list\n",
    "def new_board():\n",
    "    board = []\n",
    "    for i in range(10):\n",
    "        board.append(' ')\n",
    "    return board\n",
    "\n",
    "#Display labels for user input\n",
    "def print_board_labels():\n",
    "    print('     ' + '7' + '|' + '8' + '|' + '9')\n",
    "    print('     ' + '-----')\n",
    "    print('     ' + '4' + '|' + '5' + '|' + '6')\n",
    "    print('     ' + '-----')\n",
    "    print('     ' + '1' + '|' + '2' + '|' + '3')\n",
    "    \n",
    "#Prints current game board\n",
    "def print_board(board):\n",
    "    print('Current Game:')\n",
    "    print('    ' + board[6] + '|' + board[7] + '|' + board[8])\n",
    "    print('    ' + '-----')\n",
    "    print('    ' + board[3] + '|' + board[4] + '|' + board[5])\n",
    "    print('    ' + '-----')\n",
    "    print('    ' + board[0] + '|' + board[1] + '|' + board[2])\n",
    "    \n",
    "#Return True or False if a \"win\" is on the board\n",
    "def winning_board(board):\n",
    "    if (board[0] in ['X','O']) and (board[0] == board[1]) and (board[1] == board[2]):\n",
    "        return True\n",
    "    if (board[0] in ['X','O']) and (board[0] == board[4]) and (board[4] == board[8]):\n",
    "        return True\n",
    "    if (board[0] in ['X','O']) and (board[0] == board[3]) and (board[3] == board[6]):\n",
    "        return True\n",
    "    if (board[3] in ['X','O']) and (board[3] == board[4]) and (board[4] == board[5]):\n",
    "        return True\n",
    "    if (board[6] in ['X','O']) and (board[6] == board[4]) and (board[4] == board[2]):\n",
    "        return True\n",
    "    if (board[6] in ['X','O']) and (board[6] == board[7]) and (board[7] == board[8]):\n",
    "        return True\n",
    "    if (board[7] in ['X','O']) and (board[7] == board[4]) and (board[4] == board[1]):\n",
    "        return True\n",
    "    if (board[8] in ['X','O']) and (board[8] == board[5]) and (board[5] == board[2]):\n",
    "        return True\n",
    "    else:\n",
    "        return False\n",
    "\n",
    "#---------------------------Core game logic----------------------------\n",
    "    \n",
    "#Welcome message and variable initialization\n",
    "\n",
    "keep_playing = True\n",
    "\n",
    "#Main game loop\n",
    "while keep_playing:\n",
    "    \n",
    "    #Welcome Message, player choice,\n",
    "    print('Welcome to tic-tac-toe!')\n",
    "    board = new_board()\n",
    "    player = input('Choose X or O:').upper()\n",
    "    \n",
    "    #Check for valid player character, ask again if not valid.\n",
    "    while player not in ['X','O']:\n",
    "        clear_output()\n",
    "        print('Welcome to tic-tac-toe!')\n",
    "        print(\"This isn't that hard...\")\n",
    "        player = input(\"Choose X or O:\").upper()\n",
    "        \n",
    "    #Play out game\n",
    "    mid_game = True\n",
    "    open_moves = ['1','2','3','4','5','6','7','8','9']\n",
    "    while mid_game:\n",
    "        move = None\n",
    "        #Prompt for move, repeat until valid move entered\n",
    "        while move not in open_moves:\n",
    "            #Display move options and game board\n",
    "            clear_output()\n",
    "            print('Tic-Tac-Toe')\n",
    "            print('Chose move from:')\n",
    "            print_board_labels()\n",
    "            print_board(board)\n",
    "            \n",
    "            #No previous input error\n",
    "            if move == None:\n",
    "                move = input('Player ' + player + ' make a move:')\n",
    "            else:\n",
    "                move = input('Player ' + player + ' make a valid move:')\n",
    "      \n",
    "        #Update board with move\n",
    "        open_moves.pop((open_moves.index(move)))\n",
    "        board[int(move)-1] = player\n",
    "        move = None\n",
    "        \n",
    "        #Check for win \n",
    "        if winning_board(board) or (len(open_moves) == 0):\n",
    "            #Display move options and game board\n",
    "            clear_output()\n",
    "            print('Tic-Tac-Toe')\n",
    "            print_board(board)\n",
    "            print(player + ' Wins!')\n",
    "            mid_game = False\n",
    "    \n",
    "        #Change Player\n",
    "        if player == 'X':\n",
    "            player = 'O'\n",
    "        else:\n",
    "            player = 'X'\n",
    "    \n",
    "    #Play on message\n",
    "    print('Game Over!')\n",
    "    while player not in ['Y','N']:\n",
    "        player = input(\"Play again? (Y/N):\").upper()\n",
    "    \n",
    "    #Play on logic\n",
    "    if player == 'N':\n",
    "        keep_playing = False"
   ]
  },
  {
   "cell_type": "code",
   "execution_count": 8,
   "metadata": {},
   "outputs": [
    {
     "name": "stdout",
     "output_type": "stream",
     "text": [
      "Position Labels:\n",
      "     7|8|9\n",
      "     -----\n",
      "     4|5|6\n",
      "     -----\n",
      "     1|2|3\n"
     ]
    }
   ],
   "source": [
    "#Display labels for user input\n",
    "def print_board_labels():\n",
    "    print('Position Labels:')\n",
    "    print('     ' + '7' + '|' + '8' + '|' + '9')\n",
    "    print('     ' + '-----')\n",
    "    print('     ' + '4' + '|' + '5' + '|' + '6')\n",
    "    print('     ' + '-----')\n",
    "    print('     ' + '1' + '|' + '2' + '|' + '3')\n",
    "    \n",
    "print_board_labels()"
   ]
  },
  {
   "cell_type": "code",
   "execution_count": 15,
   "metadata": {},
   "outputs": [
    {
     "name": "stdout",
     "output_type": "stream",
     "text": [
      "Current Game:\n",
      "     | | \n",
      "    -----\n",
      "     | | \n",
      "    -----\n",
      "     | | \n"
     ]
    }
   ],
   "source": [
    "#Returns an empty player move list\n",
    "def new_board():\n",
    "    board = []\n",
    "    for i in range(10):\n",
    "        board.append(' ')\n",
    "    return board\n",
    "\n",
    "board = new_board()\n",
    "\n",
    "#Prints current game board\n",
    "def print_board(board):\n",
    "    print('Current Game:')\n",
    "    print('    ' + board[6] + '|' + board[7] + '|' + board[8])\n",
    "    print('    ' + '-----')\n",
    "    print('    ' + board[3] + '|' + board[4] + '|' + board[5])\n",
    "    print('    ' + '-----')\n",
    "    print('    ' + board[0] + '|' + board[1] + '|' + board[2])\n",
    "    \n",
    "print_board(board)"
   ]
  },
  {
   "cell_type": "code",
   "execution_count": 8,
   "metadata": {},
   "outputs": [
    {
     "name": "stdout",
     "output_type": "stream",
     "text": [
      "2\n",
      "['1']\n"
     ]
    },
    {
     "data": {
      "text/plain": [
       "0"
      ]
     },
     "execution_count": 8,
     "metadata": {},
     "output_type": "execute_result"
    }
   ],
   "source": [
    "a = ['1','2']\n",
    "b = a.pop(a.index('2'))\n",
    "print(b)\n",
    "print(a)\n",
    "len([])"
   ]
  }
 ],
 "metadata": {
  "kernelspec": {
   "display_name": "Python 3",
   "language": "python",
   "name": "python3"
  },
  "language_info": {
   "codemirror_mode": {
    "name": "ipython",
    "version": 3
   },
   "file_extension": ".py",
   "mimetype": "text/x-python",
   "name": "python",
   "nbconvert_exporter": "python",
   "pygments_lexer": "ipython3",
   "version": "3.8.5"
  }
 },
 "nbformat": 4,
 "nbformat_minor": 4
}
